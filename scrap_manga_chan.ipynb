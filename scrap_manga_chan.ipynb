{
 "cells": [
  {
   "cell_type": "code",
   "execution_count": 6,
   "metadata": {},
   "outputs": [],
   "source": [
    "import undetected_chromedriver as uc\n",
    "from selenium.webdriver.common.by import By \n",
    "import time"
   ]
  },
  {
   "attachments": {},
   "cell_type": "markdown",
   "metadata": {},
   "source": [
    "Скачивание файлов с непрямых ссылок.\n",
    "Ссылки ввиде php...\n",
    "\n",
    "С помощью селениюма находим ссылки к кликаем по ним.\n",
    "\n",
    "\n",
    "На данном этапе программа открывает только один экземпляр.\n",
    "\n",
    "Что накладывает ограничение на количество скачиваний 4-5 шт.\n",
    "\n",
    "\n",
    ">Неизвествно, изменится ли количество скачиваний при открытии нескольких экземпляров."
   ]
  },
  {
   "cell_type": "code",
   "execution_count": null,
   "metadata": {},
   "outputs": [],
   "source": [
    "# https://manga-chan.me/manga/100738-under-observation-my-first-loves-and-i.html\n",
    "# https://manga-chan.me/manga/102585-circle-zeros-otherworldly-hero-business.html"
   ]
  },
  {
   "cell_type": "code",
   "execution_count": 10,
   "metadata": {},
   "outputs": [],
   "source": [
    "url = \"\"\"\n",
    "\n",
    "https://manga-chan.me/manga/100738-under-observation-my-first-loves-and-i.html\n",
    "https://manga-chan.me/manga/102585-circle-zeros-otherworldly-hero-business.html\n",
    "https://manga-chan.me/download/8109-asa-made-jugyou-chu.html\n",
    "\n",
    "\"\"\".strip().split('\\n')\n",
    "chrome_options = uc.ChromeOptions()\n",
    "prefs = {'download.default_directory' : 'a:\\\\'}\n",
    "chrome_options.add_experimental_option('prefs', prefs)\n",
    "driver = uc.Chrome(options=chrome_options)\n",
    "driver.get(url[0])"
   ]
  },
  {
   "cell_type": "code",
   "execution_count": 11,
   "metadata": {},
   "outputs": [],
   "source": [
    "# нахождение php ссылки на файл и клик по нему.\n",
    "\n",
    "tar_list = driver.find_elements(By.TAG_NAME, \"tr\")\n",
    "# tar: uc.Chrome\n",
    "for tar in tar_list[::-1]:\n",
    "    try:\n",
    "        get = tar.find_element(By.TAG_NAME, 'a')\n",
    "    except:\n",
    "        break\n",
    "    else:\n",
    "        get.click()\n",
    "        \n",
    "driver.quit()"
   ]
  }
 ],
 "metadata": {
  "kernelspec": {
   "display_name": "Python 3",
   "language": "python",
   "name": "python3"
  },
  "language_info": {
   "codemirror_mode": {
    "name": "ipython",
    "version": 3
   },
   "file_extension": ".py",
   "mimetype": "text/x-python",
   "name": "python",
   "nbconvert_exporter": "python",
   "pygments_lexer": "ipython3",
   "version": "3.11.0"
  },
  "orig_nbformat": 4,
  "vscode": {
   "interpreter": {
    "hash": "07fa51723cfdfdcfd96f4d831e9a58393b5ea734b6a2ccc6da0d746f7dd84b96"
   }
  }
 },
 "nbformat": 4,
 "nbformat_minor": 2
}
