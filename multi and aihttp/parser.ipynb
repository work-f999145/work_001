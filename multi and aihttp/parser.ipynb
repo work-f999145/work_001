{
 "cells": [
  {
   "cell_type": "code",
   "execution_count": 2,
   "metadata": {},
   "outputs": [],
   "source": [
    "import json\n",
    "from zipfile import ZipFile\n",
    "from bs4 import BeautifulSoup as BS\n",
    "import pandas as pd\n",
    "import numpy as np\n",
    "import re\n",
    "\n"
   ]
  },
  {
   "cell_type": "code",
   "execution_count": 2,
   "metadata": {},
   "outputs": [
    {
     "name": "stdout",
     "output_type": "stream",
     "text": [
      "https://zakupki.gov.ru/epz/complaint/card/complaint-information.html?id=2256351\n"
     ]
    }
   ],
   "source": [
    "# Загрузка линков из json\n",
    "# --------------------------------------------\n",
    "with open('data/links_list.json', 'r', encoding='utf-8') as file:\n",
    "    tmp = file.read()\n",
    "    links_list = json.loads(tmp)\n",
    "print(links_list[400])"
   ]
  },
  {
   "cell_type": "code",
   "execution_count": 93,
   "metadata": {},
   "outputs": [],
   "source": [
    "with ZipFile('data/pages.zip') as zip_file:\n",
    "    item = zip_file.filelist[402]\n",
    "    with zip_file.open(item.filename) as file:\n",
    "        page = file.read().decode()"
   ]
  },
  {
   "cell_type": "code",
   "execution_count": 96,
   "metadata": {},
   "outputs": [
    {
     "name": "stdout",
     "output_type": "stream",
     "text": [
      "None\n",
      "nan\n"
     ]
    }
   ],
   "source": [
    "def information_about_the_results_of_consideration_of_the_complaint(page):\n",
    "    \"\"\"\n",
    "        Сведения о результатах рассмотрения жалобы:\n",
    "            Результат рассмотрения жалобы\n",
    "    \"\"\"\n",
    "    soup = BS(page, 'html.parser')\n",
    "    # print(soup.prettify())\n",
    "    # Карточка с информацией\n",
    "    card = soup.find('div', string=\"Сведения о результатах рассмотрения жалобы\")\n",
    "    \n",
    "    try:\n",
    "        card = card.find_parent().find_parent()\n",
    "    except AttributeError:\n",
    "        out_01 = np.NaN \n",
    "    else:\n",
    "        # Содержание жалобы\n",
    "        out_01 = card.find('div', class_='common-text__title', string=re.compile(\"Результат рассмотрения жалобы\"))\n",
    "        try:\n",
    "            out_01 = out_01.find_next_sibling('div', class_='common-text__value').get_text().strip()\n",
    "        except AttributeError:\n",
    "            out_01 = np.NaN\n",
    "    \n",
    "    return out_01\n",
    "\n",
    "print(information_about_the_results_of_consideration_of_the_complaint(page))"
   ]
  },
  {
   "cell_type": "code",
   "execution_count": 17,
   "metadata": {},
   "outputs": [
    {
     "data": {
      "text/plain": [
       "src                                                                   \n",
       "Данные участника контрактной системы в сфере закупок, подавшего жалобу    1000\n",
       "Информация о субъекте контроля                                            1000\n",
       "Сведения жалобы                                                           1000\n",
       "Содержание жалобы                                                         1000\n",
       "Информация о контрольном органе в сфере закупок                            998\n",
       "Сведения о закупке                                                         996\n",
       "Сведения о передаче по подведомственности                                  985\n",
       "Сведения о принятии жалобы к рассмотрению                                  958\n",
       "Сведения о результатах рассмотрения жалобы                                 637\n",
       "Сведения о передаче по ведомственной принадлежности                         13\n",
       "Предмет жалобы                                                               2\n",
       "Сведения о плане закупок                                                     2\n",
       "dtype: int64"
      ]
     },
     "execution_count": 17,
     "metadata": {},
     "output_type": "execute_result"
    }
   ],
   "source": [
    "# Название карточек\n",
    "# Как часто встречаются названия карточек\n",
    "names = !python scripts/parser_02.py\n",
    "names_list = json.loads(names[0])\n",
    "df = pd.DataFrame({'src': names_list})\n",
    "df.value_counts()"
   ]
  },
  {
   "cell_type": "code",
   "execution_count": 50,
   "metadata": {},
   "outputs": [
    {
     "data": {
      "text/plain": [
       "src                                                                                                                                                                              \n",
       "Наименование организации                                                                                                                                                             1179\n",
       "Номер телефона                                                                                                                                                                       1179\n",
       "Субъект контроля                                                                                                                                                                     1179\n",
       "Место нахождения                                                                                                                                                                     1175\n",
       "Почтовый адрес                                                                                                                                                                       1175\n",
       "Заказчик                                                                                                                                                                              453\n",
       "Уполномоченное учреждение                                                                                                                                                             211\n",
       "Уполномоченный орган                                                                                                                                                                  194\n",
       "Должностное лицо контрактной службы                                                                                                                                                   105\n",
       "Комиссия по осуществлению закупок                                                                                                                                                      95\n",
       "Юридические лица, осуществляющие полномочия заказчика на осуществление закупок на основании договора (соглашения) в соответствии с частью 6 статьи 15 Федерального закона № 44-ФЗ      91\n",
       "МУНИЦИПАЛЬНОЕ КАЗЕННОЕ УЧРЕЖДЕНИЕ ГОРОДСКОГО ОКРУГА ЧЕХОВ \"ЦЕНТР КОНКУРЕНТНЫХ ЗАКУПОК\"                                                                                                 38\n",
       "Российская Федерация, 142301, Московская обл., г. Чехов, ул. Новослободская, дом 7                                                                                                     38\n",
       "7-496-7230079                                                                                                                                                                          38\n",
       "142301 Московская обл Чехов г УЛИЦА НОВОСЛОБОДСКАЯ, д.ДОМ 7                                                                                                                            38\n",
       "7-                                                                                                                                                                                     25\n",
       "Контрактный управляющий                                                                                                                                                                22\n",
       "Российская Федерация, 460006, Оренбургская обл, Оренбург г, УЛИЦА КОМСОМОЛЬСКАЯ, ДОМ 122                                                                                               17\n",
       "ГОСУДАРСТВЕННОЕ КАЗЕННОЕ УЧРЕЖДЕНИЕ ОРЕНБУРГСКОЙ ОБЛАСТИ \"ЦЕНТР ОРГАНИЗАЦИИ ЗАКУПОК\"                                                                                                   17\n",
       "Российская Федерация, 460006, Оренбургская обл, Оренбург г, Комсомольская, ДОМ 122                                                                                                     17\n",
       "dtype: int64"
      ]
     },
     "execution_count": 50,
     "metadata": {},
     "output_type": "execute_result"
    }
   ],
   "source": [
    "names = !python scripts/parser_03.py \"Информация о субъекте контроля\"\n",
    "names_list = json.loads(names[0])\n",
    "df = pd.DataFrame({'src': names_list})\n",
    "reating = df.value_counts()\n",
    "reating.head(20)"
   ]
  },
  {
   "cell_type": "code",
   "execution_count": 5,
   "metadata": {},
   "outputs": [],
   "source": [
    "feature_out = !python scripts/parser_04.py"
   ]
  },
  {
   "cell_type": "code",
   "execution_count": 6,
   "metadata": {},
   "outputs": [
    {
     "name": "stdout",
     "output_type": "stream",
     "text": [
      "<class 'pandas.core.frame.DataFrame'>\n",
      "Int64Index: 1000 entries, 0 to 999\n",
      "Data columns (total 22 columns):\n",
      " #   Column                                              Non-Null Count  Dtype  \n",
      "---  ------                                              --------------  -----  \n",
      " 0   Дата размещения жалобы                              998 non-null    object \n",
      " 1   Субъект контроля                                    1000 non-null   object \n",
      " 2   Наименование организации                            1000 non-null   object \n",
      " 3   Почтовый адрес                                      998 non-null    object \n",
      " 4   Место нахождения субъекта контроля                  998 non-null    object \n",
      " 5   Номер телефона субъекта                             1000 non-null   object \n",
      " 6   Тип                                                 1000 non-null   object \n",
      " 7   Фамилия, Имя, Отчество                              631 non-null    object \n",
      " 8   Дата постановки на учет в налоговом органе          998 non-null    object \n",
      " 9   Номер телефона заявителя                            999 non-null    object \n",
      " 10  Место нахождения                                    999 non-null    object \n",
      " 11  Адрес электронной почты                             999 non-null    object \n",
      " 12  Содержание жалобы                                   999 non-null    object \n",
      " 13  Обжалуемые действия                                 90 non-null     object \n",
      " 14  Полное наименование                                 998 non-null    object \n",
      " 15  Номер извещения                                     996 non-null    float64\n",
      " 16  Наименование закупки                                996 non-null    object \n",
      " 17  Дата размещения извещения об осуществлении закупки  996 non-null    object \n",
      " 18  Дата принятия жалобы к рассмотрению                 958 non-null    object \n",
      " 19  Дата и время рассмотрения жалобы                    958 non-null    object \n",
      " 20  Место рассмотрения жалобы                           958 non-null    object \n",
      " 21  Результат рассмотрения жалобы                       637 non-null    object \n",
      "dtypes: float64(1), object(21)\n",
      "memory usage: 179.7+ KB\n"
     ]
    }
   ],
   "source": [
    "feature = pd.read_json(feature_out[0])\n",
    "feature.info()"
   ]
  },
  {
   "cell_type": "code",
   "execution_count": 8,
   "metadata": {},
   "outputs": [
    {
     "data": {
      "text/plain": [
       "8.483000e+17    31\n",
       "8.483001e+17    12\n",
       "8.482000e+17    12\n",
       "8.483000e+17    10\n",
       "8.483000e+17    10\n",
       "                ..\n",
       "8.616000e+17     1\n",
       "3.283000e+17     1\n",
       "3.482000e+17     1\n",
       "3.583004e+17     1\n",
       "8.916000e+17     1\n",
       "Name: Номер извещения, Length: 605, dtype: int64"
      ]
     },
     "execution_count": 8,
     "metadata": {},
     "output_type": "execute_result"
    }
   ],
   "source": [
    "feature.iloc[:,15].value_counts()"
   ]
  }
 ],
 "metadata": {
  "kernelspec": {
   "display_name": "Python 3",
   "language": "python",
   "name": "python3"
  },
  "language_info": {
   "codemirror_mode": {
    "name": "ipython",
    "version": 3
   },
   "file_extension": ".py",
   "mimetype": "text/x-python",
   "name": "python",
   "nbconvert_exporter": "python",
   "pygments_lexer": "ipython3",
   "version": "3.11.0"
  },
  "orig_nbformat": 4
 },
 "nbformat": 4,
 "nbformat_minor": 2
}
