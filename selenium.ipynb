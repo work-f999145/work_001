{
 "cells": [
  {
   "cell_type": "code",
   "execution_count": 1,
   "metadata": {},
   "outputs": [],
   "source": [
    "import undetected_chromedriver as uc\n",
    "from selenium.webdriver.common.by import By \n",
    "from selenium.webdriver.support.wait import WebDriverWait\n",
    "from selenium.common.exceptions import TimeoutException, ElementNotVisibleException, ElementNotSelectableException\n",
    "import requests\n",
    "from bs4 import BeautifulSoup as BS\n",
    "from time import sleep as time_sleep\n",
    "# import pandas as pd\n",
    "# from os.path import join as os_path_join\n",
    "# from os import mkdir as os_mkdir\n",
    "# from os import environ\n",
    "# from selenium import webdriver\n"
   ]
  },
  {
   "cell_type": "code",
   "execution_count": 2,
   "metadata": {},
   "outputs": [],
   "source": [
    "url_1 = 'https://2ip.ru'\n",
    "url_2 = 'https://www.panda-novel.com/top'\n",
    "url_3 = 'https://hidemy.name/ru/what-is-my-ip/'"
   ]
  },
  {
   "cell_type": "code",
   "execution_count": 4,
   "metadata": {},
   "outputs": [
    {
     "data": {
      "text/plain": [
       "{'https': 'http://45.81.76.252:8000'}"
      ]
     },
     "execution_count": 4,
     "metadata": {},
     "output_type": "execute_result"
    }
   ],
   "source": [
    "proxy_url = '45.81.76.252'\n",
    "proxy_port = '8000'\n",
    "\n",
    "proxy_1 = {\n",
    "    'https': f'http://{proxy_url}:{proxy_port}'\n",
    "}\n",
    "\n",
    "#####################################################\n",
    "\n",
    "proxy_3 = f'{proxy_url}:{proxy_port}'\n",
    "\n",
    "proxy_1"
   ]
  },
  {
   "cell_type": "code",
   "execution_count": 13,
   "metadata": {},
   "outputs": [
    {
     "name": "stdout",
     "output_type": "stream",
     "text": [
      "<Response [200]>\n"
     ]
    },
    {
     "data": {
      "text/plain": [
       "'45.81.76.252'"
      ]
     },
     "execution_count": 13,
     "metadata": {},
     "output_type": "execute_result"
    }
   ],
   "source": [
    "headers = {\n",
    "    \"User-Agent\": \"Mozilla/5.0 (Windows NT 10.0; Win64; x64; rv:109.0) Gecko/20100101 Firefox/111.0\"\n",
    "}\n",
    "\n",
    "res = requests.get(url=url_3, proxies=proxy_1, timeout=10)\n",
    "print(res)\n",
    "soup = BS(res.text, 'html.parser')\n",
    "f_ip = soup.find('div', attrs={'class':'ip'}).get_text()\n",
    "f_ip\n"
   ]
  },
  {
   "attachments": {},
   "cell_type": "markdown",
   "metadata": {},
   "source": [
    "---\n",
    "---\n",
    "---"
   ]
  },
  {
   "cell_type": "code",
   "execution_count": 44,
   "metadata": {},
   "outputs": [
    {
     "name": "stderr",
     "output_type": "stream",
     "text": [
      "C:\\Users\\f999145\\AppData\\Local\\Temp\\ipykernel_21164\\261667676.py:5: DeprecationWarning: executable_path has been deprecated, please pass in a Service object\n",
      "  driver = webdriver.Chrome(\n"
     ]
    },
    {
     "data": {
      "text/plain": [
       "'Week New Novels MORE+'"
      ]
     },
     "execution_count": 44,
     "metadata": {},
     "output_type": "execute_result"
    }
   ],
   "source": [
    "chrome_options = webdriver.ChromeOptions()\n",
    "# chrome_options.headless = True\n",
    "# chrome_options.add_argument(f'--proxy-server={proxy_3}')\n",
    "\n",
    "driver = webdriver.Chrome(\n",
    "    executable_path='chromedriver.exe',\n",
    "    options=chrome_options\n",
    ")\n",
    "\n",
    "driver.get(url_2)\n",
    "\n",
    "time_sleep(2)\n",
    "\n",
    "page = driver.page_source\n",
    "\n",
    "soup = BS(page, 'html.parser')\n",
    "fp = soup.find('h2', attrs={'class':'section-title'}).get_text()\n",
    "fp\n",
    "# soup = BS(page, 'html.parser')\n",
    "# f_ip = soup.find('div', attrs={'class':'ip'}).find('span').get_text()\n",
    "# print(f_ip)"
   ]
  },
  {
   "cell_type": "code",
   "execution_count": null,
   "metadata": {},
   "outputs": [],
   "source": [
    "chrome_options = uc.ChromeOptions()\n",
    "chrome_options.add_argument(f'--proxy-server={proxy_3}')\n",
    "driver = uc.Chrome(options=chrome_options)\n",
    "\n",
    "driver.get(url_1)\n",
    "time_sleep(2)\n",
    "# page = driver.page_source\n",
    "\n",
    "# soup = BS(page, 'html.parser')\n",
    "# fp = soup.find('h2', attrs={'class':'section-title'}).get_text()\n",
    "# fp\n",
    "\n",
    "# soup = BS(page, 'html.parser')\n",
    "# f_ip = soup.find('div', attrs={'class':'ip'}).find('span').get_text()\n",
    "# print(f_ip)"
   ]
  },
  {
   "cell_type": "code",
   "execution_count": 102,
   "metadata": {},
   "outputs": [],
   "source": [
    "# При открытии страницы появляется всплывающее окно.\n",
    "# Необходимо найти и кликнуть что бы зыкрыть его.\n",
    "test = driver.find_element(By.CLASS_NAME, 'btn-default')\n",
    "test.click()"
   ]
  },
  {
   "cell_type": "code",
   "execution_count": 103,
   "metadata": {},
   "outputs": [],
   "source": [
    "\n",
    "driver.get('https://www.panda-novel.com/details/shadow-slave(4)-1413/chapters')\n",
    "wait = WebDriverWait(\n",
    "    driver,\n",
    "    timeout=40,\n",
    "    poll_frequency=1,\n",
    "    ignored_exceptions=[TimeoutException, ElementNotVisibleException, ElementNotSelectableException])\n",
    "\n",
    "element = wait.until(lambda d: 'Cloudflare' not in d.page_source)"
   ]
  },
  {
   "cell_type": "code",
   "execution_count": null,
   "metadata": {},
   "outputs": [],
   "source": [
    "test2 = driver.find_element(By.CLASS_NAME,'ctp-checkbox-label')"
   ]
  },
  {
   "cell_type": "code",
   "execution_count": 9,
   "metadata": {},
   "outputs": [],
   "source": [
    "driver.quit()"
   ]
  }
 ],
 "metadata": {
  "kernelspec": {
   "display_name": "Python 3",
   "language": "python",
   "name": "python3"
  },
  "language_info": {
   "codemirror_mode": {
    "name": "ipython",
    "version": 3
   },
   "file_extension": ".py",
   "mimetype": "text/x-python",
   "name": "python",
   "nbconvert_exporter": "python",
   "pygments_lexer": "ipython3",
   "version": "3.11.0"
  },
  "orig_nbformat": 4
 },
 "nbformat": 4,
 "nbformat_minor": 2
}
